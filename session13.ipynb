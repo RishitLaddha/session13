{
  "cells": [
    {
      "cell_type": "markdown",
      "metadata": {
        "id": "view-in-github",
        "colab_type": "text"
      },
      "source": [
        "<a href=\"https://colab.research.google.com/github/RishitLaddha/session13/blob/main/session13.ipynb\" target=\"_parent\"><img src=\"https://colab.research.google.com/assets/colab-badge.svg\" alt=\"Open In Colab\"/></a>"
      ]
    },
    {
      "cell_type": "markdown",
      "metadata": {
        "id": "3gRZ3fPhitlD"
      },
      "source": [
        "# Session 13"
      ]
    },
    {
      "cell_type": "markdown",
      "metadata": {
        "id": "lqxC-kjvitlF"
      },
      "source": [
        "## Assignment 1"
      ]
    },
    {
      "cell_type": "code",
      "execution_count": 1,
      "metadata": {
        "id": "Zrb7AQHKitlG"
      },
      "outputs": [],
      "source": [
        "import csv\n",
        "from collections import namedtuple\n",
        "import re"
      ]
    },
    {
      "cell_type": "code",
      "execution_count": 2,
      "metadata": {
        "id": "abaFfcE6itlH"
      },
      "outputs": [],
      "source": [
        "class CSVReader:\n",
        "    def __init__(self, filename):\n",
        "        self.filename = filename\n",
        "        self.file = None\n",
        "        self.reader = None\n",
        "        self.named_tuple_class = None\n",
        "        self.iterator = None\n",
        "\n",
        "    def __enter__(self):\n",
        "        self.file = open(self.filename, mode='r', newline='', encoding='utf-8')\n",
        "        sample = self.file.readline()\n",
        "        self.file.seek(0)\n",
        "        delimiter = ',' if ',' in sample else ';'\n",
        "        self.reader = csv.reader(self.file, delimiter=delimiter)\n",
        "        headers = next(self.reader)\n",
        "        self.named_tuple_class = namedtuple(\"Row\", headers)\n",
        "        self.iterator = iter(self.reader)\n",
        "        return self\n",
        "\n",
        "    def __iter__(self):\n",
        "        return self\n",
        "\n",
        "    def __next__(self):\n",
        "        return self.named_tuple_class(*next(self.iterator))\n",
        "\n",
        "    def __exit__(self, exc_type, exc_value, traceback):\n",
        "        if self.file:\n",
        "            self.file.close()\n"
      ]
    },
    {
      "cell_type": "code",
      "execution_count": 3,
      "metadata": {
        "id": "YPDEQOi4itlH"
      },
      "outputs": [],
      "source": [
        "# Dummy useage:\n",
        "# with CSVReader(\"cars.csv\") as csv_reader:\n",
        "#     for row in csv_reader:\n",
        "#          print(row)"
      ]
    },
    {
      "cell_type": "code",
      "execution_count": 4,
      "metadata": {
        "id": "8V1fP1ezitlI"
      },
      "outputs": [],
      "source": [
        "# Dummy useage:\n",
        "# with CSVReader(\"personal_info.csv\") as csv_reader:\n",
        "#     for row in csv_reader:\n",
        "#          print(row)"
      ]
    },
    {
      "cell_type": "markdown",
      "metadata": {
        "id": "IESyX9BditlI"
      },
      "source": [
        "## Assignment 2"
      ]
    },
    {
      "cell_type": "code",
      "execution_count": 5,
      "metadata": {
        "id": "yHfmxX-sitlI"
      },
      "outputs": [],
      "source": [
        "import csv\n",
        "from collections import namedtuple\n",
        "from contextlib import contextmanager\n",
        "\n",
        "@contextmanager\n",
        "def csv_reader(filename):\n",
        "    file = open(filename, mode='r', newline='', encoding='utf-8')\n",
        "    try:\n",
        "        sample = file.readline()\n",
        "        file.seek(0)\n",
        "\n",
        "        delimiter = ',' if ',' in sample else ';'\n",
        "        reader = csv.reader(file, delimiter=delimiter)\n",
        "\n",
        "        headers = next(reader)\n",
        "        Row = namedtuple(\"Row\", headers)\n",
        "\n",
        "        yield (Row(*row) for row in reader)\n",
        "    finally:\n",
        "        file.close()\n"
      ]
    },
    {
      "cell_type": "code",
      "execution_count": 6,
      "metadata": {
        "id": "ln2IktmYitlJ"
      },
      "outputs": [],
      "source": [
        "# Dummy usage:\n",
        "# with csv_reader(\"cars.csv\") as csv_gen:\n",
        "#      for row in csv_gen:\n",
        "#         print(row)\n"
      ]
    },
    {
      "cell_type": "code",
      "execution_count": 7,
      "metadata": {
        "id": "qeKKtcPIitlJ"
      },
      "outputs": [],
      "source": [
        "# Dummy usage:\n",
        "# with csv_reader(\"personal_info.csv\") as csv_gen:\n",
        "#      for row in csv_gen:\n",
        "#         print(row)\n"
      ]
    }
  ],
  "metadata": {
    "kernelspec": {
      "display_name": "Python 3",
      "language": "python",
      "name": "python3"
    },
    "language_info": {
      "codemirror_mode": {
        "name": "ipython",
        "version": 3
      },
      "file_extension": ".py",
      "mimetype": "text/x-python",
      "name": "python",
      "nbconvert_exporter": "python",
      "pygments_lexer": "ipython3",
      "version": "3.12.4"
    },
    "colab": {
      "provenance": [],
      "include_colab_link": true
    }
  },
  "nbformat": 4,
  "nbformat_minor": 0
}